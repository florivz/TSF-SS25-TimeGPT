{
 "cells": [
  {
   "cell_type": "code",
   "execution_count": 6,
   "id": "600383cc",
   "metadata": {},
   "outputs": [],
   "source": [
    "import pandas as pd\n",
    "from sktime.datasets import load_tsf_to_dataframe"
   ]
  },
  {
   "cell_type": "code",
   "execution_count": 7,
   "id": "6b6302d3",
   "metadata": {},
   "outputs": [
    {
     "data": {
      "text/html": [
       "<div>\n",
       "<style scoped>\n",
       "    .dataframe tbody tr th:only-of-type {\n",
       "        vertical-align: middle;\n",
       "    }\n",
       "\n",
       "    .dataframe tbody tr th {\n",
       "        vertical-align: top;\n",
       "    }\n",
       "\n",
       "    .dataframe thead th {\n",
       "        text-align: right;\n",
       "    }\n",
       "</style>\n",
       "<table border=\"1\" class=\"dataframe\">\n",
       "  <thead>\n",
       "    <tr style=\"text-align: right;\">\n",
       "      <th></th>\n",
       "      <th></th>\n",
       "      <th></th>\n",
       "      <th>series_value</th>\n",
       "    </tr>\n",
       "    <tr>\n",
       "      <th>series_name</th>\n",
       "      <th>state</th>\n",
       "      <th>timestamp</th>\n",
       "      <th></th>\n",
       "    </tr>\n",
       "  </thead>\n",
       "  <tbody>\n",
       "    <tr>\n",
       "      <th rowspan=\"5\" valign=\"top\">T1</th>\n",
       "      <th rowspan=\"5\" valign=\"top\">NSW</th>\n",
       "      <th>2002-01-01 00:00:00</th>\n",
       "      <td>5714.045004</td>\n",
       "    </tr>\n",
       "    <tr>\n",
       "      <th>2002-01-01 00:30:00</th>\n",
       "      <td>5360.189078</td>\n",
       "    </tr>\n",
       "    <tr>\n",
       "      <th>2002-01-01 01:00:00</th>\n",
       "      <td>5014.835118</td>\n",
       "    </tr>\n",
       "    <tr>\n",
       "      <th>2002-01-01 01:30:00</th>\n",
       "      <td>4602.755516</td>\n",
       "    </tr>\n",
       "    <tr>\n",
       "      <th>2002-01-01 02:00:00</th>\n",
       "      <td>4285.179828</td>\n",
       "    </tr>\n",
       "  </tbody>\n",
       "</table>\n",
       "</div>"
      ],
      "text/plain": [
       "                                       series_value\n",
       "series_name state timestamp                        \n",
       "T1          NSW   2002-01-01 00:00:00   5714.045004\n",
       "                  2002-01-01 00:30:00   5360.189078\n",
       "                  2002-01-01 01:00:00   5014.835118\n",
       "                  2002-01-01 01:30:00   4602.755516\n",
       "                  2002-01-01 02:00:00   4285.179828"
      ]
     },
     "execution_count": 7,
     "metadata": {},
     "output_type": "execute_result"
    }
   ],
   "source": [
    "df, metadata = load_tsf_to_dataframe('../../raw_data/australian_electricity_demand_dataset.tsf')\n",
    "df.head()"
   ]
  },
  {
   "cell_type": "code",
   "execution_count": 8,
   "id": "eb79b791",
   "metadata": {},
   "outputs": [],
   "source": [
    "# Flattening multi-index if needed\n",
    "df = df.reset_index()\n",
    "\n",
    "# Filter for New South Wales\n",
    "df = df[df['state'] == 'NSW']\n",
    "\n",
    "# Keep only relevant columns and rename timestamp\n",
    "df = df[['timestamp', 'series_value']].rename(columns={'timestamp': 'ts'})\n",
    "\n",
    "# Convert to datetime\n",
    "df['ts'] = pd.to_datetime(df['ts'])\n",
    "\n",
    "# Drop duplicates based on timestamp\n",
    "df = df.drop_duplicates(subset='ts')\n",
    "\n",
    "# Sort by timestamp and set as index\n",
    "df = df.sort_values('ts').set_index('ts')\n",
    "\n",
    "# Resample to regular 30-minute intervals\n",
    "df = df.resample('30min').mean()\n",
    "\n",
    "# Interpolate missing values (method='time' requires datetime index!)\n",
    "df = df.interpolate(method='time')\n",
    "\n",
    "# Reset index to move timestamp back to column\n",
    "df = df.reset_index()\n"
   ]
  },
  {
   "cell_type": "code",
   "execution_count": 9,
   "id": "011afae6",
   "metadata": {},
   "outputs": [
    {
     "name": "stdout",
     "output_type": "stream",
     "text": [
      "Missing values per column:\n",
      " ts              0\n",
      "series_value    0\n",
      "dtype: int64\n",
      "Most common frequency between timestamps: 0 days 00:30:00\n",
      "Number of duplicate timestamps: 0\n",
      "Number of irregular intervals: 1\n"
     ]
    }
   ],
   "source": [
    "# Diagnostics and checks\n",
    "missing_values = df.isnull().sum()\n",
    "time_deltas = df['ts'].diff()\n",
    "most_common_freq = time_deltas.mode()[0]\n",
    "duplicate_timestamps = df['ts'].duplicated().sum()\n",
    "irregular_intervals = df[time_deltas != most_common_freq]\n",
    "\n",
    "# Print summary of issues\n",
    "print(\"Missing values per column:\\n\", missing_values)\n",
    "print(\"Most common frequency between timestamps:\", most_common_freq)\n",
    "print(\"Number of duplicate timestamps:\", duplicate_timestamps)\n",
    "print(\"Number of irregular intervals:\", irregular_intervals.shape[0])"
   ]
  },
  {
   "cell_type": "code",
   "execution_count": 10,
   "id": "db4eb060",
   "metadata": {},
   "outputs": [],
   "source": [
    "df.to_csv('../../transformed_data/cleaned_australian_electricity_demand.csv', index=False)"
   ]
  }
 ],
 "metadata": {
  "kernelspec": {
   "display_name": "tsf-ss25-timegpt-9SjHUXw4-py3.10",
   "language": "python",
   "name": "python3"
  },
  "language_info": {
   "codemirror_mode": {
    "name": "ipython",
    "version": 3
   },
   "file_extension": ".py",
   "mimetype": "text/x-python",
   "name": "python",
   "nbconvert_exporter": "python",
   "pygments_lexer": "ipython3",
   "version": "3.10.18"
  }
 },
 "nbformat": 4,
 "nbformat_minor": 5
}
