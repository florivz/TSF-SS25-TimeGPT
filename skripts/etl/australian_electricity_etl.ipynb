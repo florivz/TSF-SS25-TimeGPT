{
 "cells": [
  {
   "cell_type": "code",
   "execution_count": 2,
   "id": "600383cc",
   "metadata": {},
   "outputs": [],
   "source": [
    "import pandas as pd\n",
    "from sktime.datasets import load_tsf_to_dataframe"
   ]
  },
  {
   "cell_type": "code",
   "execution_count": 8,
   "id": "6b6302d3",
   "metadata": {},
   "outputs": [
    {
     "data": {
      "text/html": [
       "<div>\n",
       "<style scoped>\n",
       "    .dataframe tbody tr th:only-of-type {\n",
       "        vertical-align: middle;\n",
       "    }\n",
       "\n",
       "    .dataframe tbody tr th {\n",
       "        vertical-align: top;\n",
       "    }\n",
       "\n",
       "    .dataframe thead th {\n",
       "        text-align: right;\n",
       "    }\n",
       "</style>\n",
       "<table border=\"1\" class=\"dataframe\">\n",
       "  <thead>\n",
       "    <tr style=\"text-align: right;\">\n",
       "      <th></th>\n",
       "      <th></th>\n",
       "      <th></th>\n",
       "      <th>series_value</th>\n",
       "    </tr>\n",
       "    <tr>\n",
       "      <th>series_name</th>\n",
       "      <th>state</th>\n",
       "      <th>timestamp</th>\n",
       "      <th></th>\n",
       "    </tr>\n",
       "  </thead>\n",
       "  <tbody>\n",
       "    <tr>\n",
       "      <th rowspan=\"5\" valign=\"top\">T1</th>\n",
       "      <th rowspan=\"5\" valign=\"top\">NSW</th>\n",
       "      <th>2002-01-01 00:00:00</th>\n",
       "      <td>5714.045004</td>\n",
       "    </tr>\n",
       "    <tr>\n",
       "      <th>2002-01-01 00:30:00</th>\n",
       "      <td>5360.189078</td>\n",
       "    </tr>\n",
       "    <tr>\n",
       "      <th>2002-01-01 01:00:00</th>\n",
       "      <td>5014.835118</td>\n",
       "    </tr>\n",
       "    <tr>\n",
       "      <th>2002-01-01 01:30:00</th>\n",
       "      <td>4602.755516</td>\n",
       "    </tr>\n",
       "    <tr>\n",
       "      <th>2002-01-01 02:00:00</th>\n",
       "      <td>4285.179828</td>\n",
       "    </tr>\n",
       "  </tbody>\n",
       "</table>\n",
       "</div>"
      ],
      "text/plain": [
       "                                       series_value\n",
       "series_name state timestamp                        \n",
       "T1          NSW   2002-01-01 00:00:00   5714.045004\n",
       "                  2002-01-01 00:30:00   5360.189078\n",
       "                  2002-01-01 01:00:00   5014.835118\n",
       "                  2002-01-01 01:30:00   4602.755516\n",
       "                  2002-01-01 02:00:00   4285.179828"
      ]
     },
     "execution_count": 8,
     "metadata": {},
     "output_type": "execute_result"
    }
   ],
   "source": [
    "df, metadata = load_tsf_to_dataframe('../../raw_data/australian_electricity_demand_dataset.tsf')\n",
    "#df.drop(columns=['series_name', 'state'], inplace=True)\n",
    "df.head()"
   ]
  },
  {
   "cell_type": "code",
   "execution_count": 4,
   "id": "c217c0ca",
   "metadata": {},
   "outputs": [
    {
     "data": {
      "text/plain": [
       "Index(['series_value'], dtype='object')"
      ]
     },
     "execution_count": 4,
     "metadata": {},
     "output_type": "execute_result"
    }
   ],
   "source": [
    "df.columns"
   ]
  },
  {
   "cell_type": "code",
   "execution_count": null,
   "id": "fcde6992",
   "metadata": {},
   "outputs": [],
   "source": []
  }
 ],
 "metadata": {
  "kernelspec": {
   "display_name": "tsf-ss25-timegpt-9SjHUXw4-py3.10",
   "language": "python",
   "name": "python3"
  },
  "language_info": {
   "codemirror_mode": {
    "name": "ipython",
    "version": 3
   },
   "file_extension": ".py",
   "mimetype": "text/x-python",
   "name": "python",
   "nbconvert_exporter": "python",
   "pygments_lexer": "ipython3",
   "version": "3.10.18"
  }
 },
 "nbformat": 4,
 "nbformat_minor": 5
}
